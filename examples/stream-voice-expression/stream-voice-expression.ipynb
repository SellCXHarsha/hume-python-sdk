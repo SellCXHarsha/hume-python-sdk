{
  "cells": [
    {
      "cell_type": "markdown",
      "metadata": {},
      "source": [
        "## Stream / Voice Expression\n",
        "\n",
        "This notebook uses the streaming API to analyze a stream of vocal audio data."
      ]
    },
    {
      "cell_type": "code",
      "execution_count": 1,
      "metadata": {},
      "outputs": [],
      "source": [
        "import asyncio\n",
        "import traceback\n",
        "\n",
        "from utilities import download_file, encode_audio, generate_audio_stream, print_emotions\n",
        "\n",
        "from hume import HumeStreamClient\n",
        "from hume.models.config import BurstConfig, ProsodyConfig"
      ]
    },
    {
      "cell_type": "code",
      "execution_count": null,
      "metadata": {},
      "outputs": [],
      "source": [
        "!pip install sounddevice numpy scipy pydub\n"
      ]
    },
    {
      "cell_type": "code",
      "execution_count": 2,
      "metadata": {},
      "outputs": [
        {
          "ename": "OSError",
          "evalue": "PortAudio library not found",
          "output_type": "error",
          "traceback": [
            "\u001b[0;31m---------------------------------------------------------------------------\u001b[0m",
            "\u001b[0;31mOSError\u001b[0m                                   Traceback (most recent call last)",
            "Cell \u001b[0;32mIn[2], line 1\u001b[0m\n\u001b[0;32m----> 1\u001b[0m \u001b[38;5;28;01mimport\u001b[39;00m \u001b[38;5;21;01msounddevice\u001b[39;00m \u001b[38;5;28;01mas\u001b[39;00m \u001b[38;5;21;01msd\u001b[39;00m\n\u001b[1;32m      2\u001b[0m \u001b[38;5;28;01mimport\u001b[39;00m \u001b[38;5;21;01mnumpy\u001b[39;00m \u001b[38;5;28;01mas\u001b[39;00m \u001b[38;5;21;01mnp\u001b[39;00m\n\u001b[1;32m      3\u001b[0m \u001b[38;5;28;01mfrom\u001b[39;00m \u001b[38;5;21;01mscipy\u001b[39;00m\u001b[38;5;21;01m.\u001b[39;00m\u001b[38;5;21;01mio\u001b[39;00m\u001b[38;5;21;01m.\u001b[39;00m\u001b[38;5;21;01mwavfile\u001b[39;00m \u001b[38;5;28;01mimport\u001b[39;00m write\n",
            "File \u001b[0;32m~/.local/lib/python3.10/site-packages/sounddevice.py:71\u001b[0m\n\u001b[1;32m     69\u001b[0m             \u001b[38;5;28;01mbreak\u001b[39;00m\n\u001b[1;32m     70\u001b[0m     \u001b[38;5;28;01melse\u001b[39;00m:\n\u001b[0;32m---> 71\u001b[0m         \u001b[38;5;28;01mraise\u001b[39;00m \u001b[38;5;167;01mOSError\u001b[39;00m(\u001b[38;5;124m'\u001b[39m\u001b[38;5;124mPortAudio library not found\u001b[39m\u001b[38;5;124m'\u001b[39m)\n\u001b[1;32m     72\u001b[0m     _lib \u001b[38;5;241m=\u001b[39m _ffi\u001b[38;5;241m.\u001b[39mdlopen(_libname)\n\u001b[1;32m     73\u001b[0m \u001b[38;5;28;01mexcept\u001b[39;00m \u001b[38;5;167;01mOSError\u001b[39;00m:\n",
            "\u001b[0;31mOSError\u001b[0m: PortAudio library not found"
          ]
        }
      ],
      "source": [
        "import sounddevice as sd\n",
        "import numpy as np\n",
        "from scipy.io.wavfile import write\n",
        "from pydub import AudioSegment\n",
        "\n",
        "def record_audio(duration=5, fs=44100):\n",
        "    \"\"\"\n",
        "    Record audio from the microphone.\n",
        "\n",
        "    Parameters:\n",
        "    - duration: Length of the recording in seconds.\n",
        "    - fs: Sampling rate.\n",
        "\n",
        "    Returns:\n",
        "    - Numpy array containing the recorded audio data.\n",
        "    \"\"\"\n",
        "    print(f\"Recording for {duration} seconds...\")\n",
        "    recording = sd.rec(int(duration * fs), samplerate=fs, channels=2, dtype='float64')\n",
        "    sd.wait()  # Wait until recording is finished\n",
        "    print(\"Recording finished\")\n",
        "    return recording, fs\n",
        "\n",
        "def save_as_mp3(audio_data, fs, filename='recording.mp3'):\n",
        "    \"\"\"\n",
        "    Save the audio data to an MP3 file.\n",
        "\n",
        "    Parameters:\n",
        "    - audio_data: Numpy array containing the audio data.\n",
        "    - fs: Sampling rate.\n",
        "    - filename: Filename for the MP3 file.\n",
        "    \"\"\"\n",
        "    # Convert the Numpy array to a WAV file temporarily\n",
        "    temp_wav = \"temp_recording.wav\"\n",
        "    write(temp_wav, fs, audio_data)\n",
        "\n",
        "    # Convert WAV to MP3\n",
        "    sound = AudioSegment.from_wav(temp_wav)\n",
        "    sound.export(filename, format=\"mp3\")\n",
        "    \n",
        "    # Remove temporary WAV file\n",
        "    import os\n",
        "    os.remove(temp_wav)\n",
        "\n",
        "    print(f\"Saved recording as {filename}\")\n",
        "\n",
        "# Example usage\n",
        "audio_data, fs = record_audio(duration=5)  # Record for 5 seconds\n",
        "save_as_mp3(audio_data, fs, 'my_recording.mp3')\n"
      ]
    },
    {
      "cell_type": "code",
      "execution_count": null,
      "metadata": {},
      "outputs": [],
      "source": [
        "filepath = download_file(\"https://storage.googleapis.com/hume-test-data/audio/ninth-century-laugh.mp3\")\n",
        "\n",
        "async def main():\n",
        "    try:\n",
        "        client = HumeStreamClient(\"3zSBNpCCtON0nUM6VDiqd9pD8Zi4SHRqnvOYtIjkBG13jKWE\")\n",
        "        burst_config = BurstConfig()\n",
        "        prosody_config = ProsodyConfig()\n",
        "        async with client.connect([burst_config, prosody_config]) as socket:\n",
        "\n",
        "            for sample_number, audio_sample in enumerate(generate_audio_stream(filepath)):\n",
        "                encoded_sample = encode_audio(audio_sample)\n",
        "                \n",
        "                # Reset connection stream context between samples\n",
        "                await socket.reset_stream()\n",
        "\n",
        "                result = await socket.send_bytes(encoded_sample)\n",
        "\n",
        "                print(f\"\\nStreaming sample {sample_number + 1}\")\n",
        "\n",
        "                print(\"Speech prosody:\")\n",
        "                if \"warning\" in result[\"prosody\"]:\n",
        "                    print(result[\"prosody\"][\"warning\"])\n",
        "                else:\n",
        "                    emotions = result[\"prosody\"][\"predictions\"][0][\"emotions\"]\n",
        "                    print_emotions(emotions)\n",
        "\n",
        "                print(\"Vocal burst\")\n",
        "                if \"warning\" in result[\"burst\"]:\n",
        "                    print(result[\"burst\"][\"warning\"])\n",
        "                else:\n",
        "                    emotions = result[\"burst\"][\"predictions\"][0][\"emotions\"]\n",
        "                    print_emotions(emotions)\n",
        "    except Exception:\n",
        "        print(traceback.format_exc())\n",
        "\n",
        "# When running the streaming API outside of a Jupyter notebook you do not need these lines.\n",
        "# Jupyter has its own async event loop, so this merges main into the Jupyter event loop.\n",
        "# To run this sample in a script with asyncio you can use `asyncio.run(main())`\n",
        "loop = asyncio.get_event_loop()\n",
        "loop.create_task(main())"
      ]
    },
    {
      "cell_type": "code",
      "execution_count": null,
      "metadata": {},
      "outputs": [],
      "source": []
    }
  ],
  "metadata": {
    "kernelspec": {
      "display_name": "hume",
      "language": "python",
      "name": "python3"
    },
    "language_info": {
      "codemirror_mode": {
        "name": "ipython",
        "version": 3
      },
      "file_extension": ".py",
      "mimetype": "text/x-python",
      "name": "python",
      "nbconvert_exporter": "python",
      "pygments_lexer": "ipython3",
      "version": "3.10.12"
    }
  },
  "nbformat": 4,
  "nbformat_minor": 2
}
